{
 "cells": [
  {
   "cell_type": "markdown",
   "metadata": {
    "deletable": false,
    "nbgrader": {
     "cell_type": "markdown",
     "checksum": "7d1d00139390674ebfa2ab4b93f177c2",
     "grade": false,
     "grade_id": "cell-8f87d3f057af49f1",
     "locked": true,
     "schema_version": 3,
     "solution": false,
     "task": false
    },
    "tags": []
   },
   "source": [
    "## Problem 4 (*optional*) - Parsing monbthly data\n",
    "\n",
    "**This is an optional task for those who want more practice.**\n",
    "\n",
    "This problem is more challenging as we provide only minimal instructions for completing the given tasks. You will need to search through the pandas documentation (and other resources) for help. We will *hopfully* cover data aggregation in more detail during Lesson 6, so this is a good opportunity to get a head start for next week!\n",
    "\n",
    "In this problem, the aim is to aggregate the daily temperature data for from the weather stations to the monthly level. \n",
    "\n",
    "The output should contain mean, max, and min Celsius temperatures for each month (for example, one mean temperature value for the March and so on).\n",
    "\n",
    "### What to do\n",
    "\n",
    "- Your task is to summarize the information for each month by aggregating (grouping) the DataFrame.\n",
    "- The output should be a new DataFrame where you have calculated the mean, max, and min Celsius temperatures for each month separately based on daily values.\n",
    "- Repeat the task for the two data sets you created in Problem 2 (March-May temperatures from Mactan and Hinatuan).\n",
    "\n",
    "Don't forget to:\n",
    "\n",
    "- Include useful comments in your code\n",
    "- Push your solution to GitHub\n",
    "\n",
    "### Hint\n",
    "\n",
    "You can find help from the [Pandas Official documentation](https://pandas.pydata.org/pandas-docs/stable/) and Google. Don't hestiate to ask for tips in Slack!"
   ]
  },
  {
   "cell_type": "code",
   "execution_count": null,
   "metadata": {
    "deletable": false,
    "editable": false,
    "nbgrader": {
     "cell_type": "code",
     "checksum": "71f685a62c58703b2de3ecec535adf13",
     "grade": true,
     "grade_id": "problem_4_mg_p1_do_it_all",
     "locked": false,
     "points": 0,
     "schema_version": 3,
     "solution": true,
     "task": false
    },
    "tags": []
   },
   "outputs": [],
   "source": [
    "# YOUR CODE HERE\n",
    "raise NotImplementedError()"
   ]
  }
 ],
 "metadata": {
  "anaconda-cloud": {},
  "kernelspec": {
   "display_name": "Python 3 (ipykernel)",
   "language": "python",
   "name": "python3"
  },
  "language_info": {
   "codemirror_mode": {
    "name": "ipython",
    "version": 3
   },
   "file_extension": ".py",
   "mimetype": "text/x-python",
   "name": "python",
   "nbconvert_exporter": "python",
   "pygments_lexer": "ipython3",
   "version": "3.7.11"
  }
 },
 "nbformat": 4,
 "nbformat_minor": 4
}
