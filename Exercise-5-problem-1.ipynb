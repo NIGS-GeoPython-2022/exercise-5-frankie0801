{
 "cells": [
  {
   "cell_type": "markdown",
   "metadata": {
    "deletable": false,
    "nbgrader": {
     "cell_type": "markdown",
     "checksum": "444ceef65aa930b13f500dcd650456f1",
     "grade": false,
     "grade_id": "cell-1e760a9173223eac",
     "locked": true,
     "schema_version": 3,
     "solution": false
    },
    "tags": []
   },
   "source": [
    "## Problem 1 - Basic statistics of the data (2 points)\n",
    "\n",
    "In this problem your task is to open and explore a NOAA weather data file using pandas. The data file name is `ph_temp_data.csv` and it is located in the `data` folder in this repository. \n",
    "\n",
    "### Tips for completing this problem\n",
    "\n",
    "- Use **exactly** the same variable names as in the instructions.\n",
    "- **Please do not**:\n",
    "\n",
    "    - **Change the file names**. Do all of your editing in the provided `Exercise-5-problem-1.ipynb` file (this file).\n",
    "    - **Change the existing cell types**. You can add cells, but changing the cell types for existing cells (from code to markdown, for example) will also cause the automated grader to fail. \n",
    "\n",
    "### Scores for this problem\n",
    "\n",
    "**Your score on this problem will be based on following criteria:**\n",
    "\n",
    "- Importing the pandas module\n",
    "- Reading the data using pandas into a variable called `data`\n",
    "- Calculating a number of values from the data file used in this problem\n",
    "- Including comments that explain what most lines in the code do\n",
    "- Answering a couple questions at the end of the problem\n",
    "- Uploading your notebook to your GitHub repository for this week's exercise"
   ]
  },
  {
   "cell_type": "markdown",
   "metadata": {
    "deletable": false,
    "editable": false,
    "nbgrader": {
     "cell_type": "markdown",
     "checksum": "679ec0de114fb686434ddb20705630de",
     "grade": false,
     "grade_id": "cell-5f1b764c6963516b",
     "locked": true,
     "schema_version": 3,
     "solution": false,
     "task": false
    }
   },
   "source": [
    "### Part 1 (0.5 points)\n",
    "\n",
    "Your first task is to import pandas and read in the data file.\n",
    "\n",
    "- Import the pandas module\n",
    "- Read the data into a variable called `data` using pandas \n",
    "\n",
    "**Hint**: When reading the data, you need to consider a couple of things:\n",
    "\n",
    "- The input file is located in the `data` folder, and you need to include this in the filepath when reading the file to pandas\n",
    "- No-data values are specified with varying number of `*` characters in the input file. You can tell this to pandas by specifying the following parameter in the pandas `read_csv()` function: `na_values=['*', '**', '***', '****', '*****', '******']`     "
   ]
  },
  {
   "cell_type": "code",
   "execution_count": null,
   "metadata": {
    "deletable": false,
    "nbgrader": {
     "cell_type": "code",
     "checksum": "1bb7fb671d8536a174292f4135568a7a",
     "grade": false,
     "grade_id": "problem_1_ag_p1_read_csv",
     "locked": false,
     "schema_version": 3,
     "solution": true
    }
   },
   "outputs": [],
   "source": [
    "data = None\n",
    "\n",
    "# YOUR CODE HERE\n",
    "raise NotImplementedError()"
   ]
  },
  {
   "cell_type": "markdown",
   "metadata": {
    "deletable": false,
    "editable": false,
    "nbgrader": {
     "cell_type": "markdown",
     "checksum": "414376c4b6e7d3199c155e0cbe17b717",
     "grade": false,
     "grade_id": "cell-9bd0f6a45f7bdba8",
     "locked": true,
     "schema_version": 3,
     "solution": false,
     "task": false
    }
   },
   "source": [
    "Check that the first rows of the DataFrame look ok: "
   ]
  },
  {
   "cell_type": "code",
   "execution_count": null,
   "metadata": {
    "deletable": false,
    "editable": false,
    "nbgrader": {
     "cell_type": "code",
     "checksum": "09c07ed4bf42c857eb8c00e0035545c2",
     "grade": true,
     "grade_id": "problem_1_ag_p1_read_csv_test",
     "locked": true,
     "points": 0.5,
     "schema_version": 3,
     "solution": false
    }
   },
   "outputs": [],
   "source": [
    "data.head()"
   ]
  },
  {
   "cell_type": "markdown",
   "metadata": {
    "deletable": false,
    "editable": false,
    "nbgrader": {
     "cell_type": "markdown",
     "checksum": "87ae93ba186bd654aff0c6fd790e56dd",
     "grade": false,
     "grade_id": "cell-52993769979e9829",
     "locked": true,
     "schema_version": 3,
     "solution": false,
     "task": false
    }
   },
   "source": [
    "### Part 2 (0.5 points)\n",
    "\n",
    "In the cell below, fill in the variables values to print answers to these questions:\n",
    "\n",
    "- How many rows is there in the data (variable `rows`)?\n",
    "- What are the column names (variable `column_names`)?\n",
    "- What are the datatypes of the columns (variable `column_datatypes`)?"
   ]
  },
  {
   "cell_type": "code",
   "execution_count": null,
   "metadata": {
    "deletable": false,
    "nbgrader": {
     "cell_type": "code",
     "checksum": "b81d76f8a8bf1cc4cdc32f9684e0160f",
     "grade": false,
     "grade_id": "problem_1_ag_p2_pandas_data",
     "locked": false,
     "schema_version": 3,
     "solution": true,
     "task": false
    }
   },
   "outputs": [],
   "source": [
    "row_count = None\n",
    "column_names = None\n",
    "column_datatypes = None\n",
    "\n",
    "# YOUR CODE HERE\n",
    "raise NotImplementedError()"
   ]
  },
  {
   "cell_type": "code",
   "execution_count": null,
   "metadata": {
    "deletable": false,
    "editable": false,
    "nbgrader": {
     "cell_type": "code",
     "checksum": "573a3930fbed0280acd7dd2110d7d107",
     "grade": true,
     "grade_id": "problem_1_ag_p2_pandas_data_test1",
     "locked": true,
     "points": 0.1,
     "schema_version": 3,
     "solution": false
    }
   },
   "outputs": [],
   "source": [
    "# Print the number of rows in the dataframe:\n",
    "print(f\"There are {row_count} rows\")"
   ]
  },
  {
   "cell_type": "code",
   "execution_count": null,
   "metadata": {
    "deletable": false,
    "editable": false,
    "nbgrader": {
     "cell_type": "code",
     "checksum": "bf85dcce6e0698e2dbbe107cd94a68b3",
     "grade": true,
     "grade_id": "problem_1_ag_p2_pandas_data_test2",
     "locked": true,
     "points": 0.2,
     "schema_version": 3,
     "solution": false
    }
   },
   "outputs": [],
   "source": [
    "# Print the column names:\n",
    "print(f\"The columns are: \\n{column_names}\")"
   ]
  },
  {
   "cell_type": "code",
   "execution_count": null,
   "metadata": {
    "deletable": false,
    "editable": false,
    "nbgrader": {
     "cell_type": "code",
     "checksum": "72607455d2ac012c75770bee054f09f8",
     "grade": true,
     "grade_id": "problem_1_ag_p2_pandas_data_test3",
     "locked": true,
     "points": 0.2,
     "schema_version": 3,
     "solution": false
    }
   },
   "outputs": [],
   "source": [
    "# Print the column datatypes:\n",
    "print(f\"The column types are: \\n{column_datatypes}\")"
   ]
  },
  {
   "cell_type": "markdown",
   "metadata": {
    "deletable": false,
    "editable": false,
    "nbgrader": {
     "cell_type": "markdown",
     "checksum": "8a63cde3014f140669f0407e96470fdc",
     "grade": false,
     "grade_id": "cell-084bfa64c8d7ad54",
     "locked": true,
     "schema_version": 3,
     "solution": false,
     "task": false
    },
    "tags": []
   },
   "source": [
    "### Part 3 (1 point)\n",
    "\n",
    "In the cell below, fill in the variables values to print answers to these questions:\n",
    "\n",
    "- What is the mean Fahrenheit temperature in the data (`temp_mean` variable calculated from the `TEMP` column)?\n",
    "- What is the standard deviation of the maximum temperature (`temp_max_std` variable calculated from the `MAX` column)?\n",
    "- How many unique stations exists in the data (`station_count` variable calculated from the `STATION` column)?"
   ]
  },
  {
   "cell_type": "code",
   "execution_count": null,
   "metadata": {
    "deletable": false,
    "nbgrader": {
     "cell_type": "code",
     "checksum": "af2469d960da066f500cb07f3e2e27ea",
     "grade": false,
     "grade_id": "problem_1_ag_p3_basic_statistics",
     "locked": false,
     "schema_version": 3,
     "solution": true
    }
   },
   "outputs": [],
   "source": [
    "# Calculate mean temperature\n",
    "temp_mean = None\n",
    "\n",
    "# Calculate standard deviaton of the maximum temperature:\n",
    "temp_max_std = None\n",
    "\n",
    "#Calculate number of unique stations:\n",
    "station_count = None\n",
    "\n",
    "# YOUR CODE HERE\n",
    "raise NotImplementedError()"
   ]
  },
  {
   "cell_type": "code",
   "execution_count": null,
   "metadata": {
    "deletable": false,
    "editable": false,
    "nbgrader": {
     "cell_type": "code",
     "checksum": "150191344d5b0b5dcd9718247250091c",
     "grade": true,
     "grade_id": "problem_1_ag_p3_basic_statistics_test1",
     "locked": true,
     "points": 0.3,
     "schema_version": 3,
     "solution": false
    }
   },
   "outputs": [],
   "source": [
    "# Check mean temperature value\n",
    "print(f\"The mean temperature in Fahrenheit is {round(temp_mean,1)}\")"
   ]
  },
  {
   "cell_type": "code",
   "execution_count": null,
   "metadata": {
    "deletable": false,
    "editable": false,
    "nbgrader": {
     "cell_type": "code",
     "checksum": "3384f078cc932aa2e22b423268e1a262",
     "grade": true,
     "grade_id": "problem_1_ag_p3_basic_statistics_test2",
     "locked": true,
     "points": 0.3,
     "schema_version": 3,
     "solution": false
    }
   },
   "outputs": [],
   "source": [
    "# Check standard deviation value\n",
    "print(f\"The standard deviation of maximum temperature is {round(temp_max_std, 1)}\")"
   ]
  },
  {
   "cell_type": "code",
   "execution_count": null,
   "metadata": {
    "deletable": false,
    "editable": false,
    "nbgrader": {
     "cell_type": "code",
     "checksum": "2ab9de0679771441fa2f4dc599986884",
     "grade": true,
     "grade_id": "problem_1_ag_p3_basic_statistics_test",
     "locked": true,
     "points": 0.4,
     "schema_version": 3,
     "solution": false
    }
   },
   "outputs": [],
   "source": [
    "# Check number of stations value\n",
    "print(f\"The number of unique stations is {station_count}\")"
   ]
  },
  {
   "cell_type": "markdown",
   "metadata": {
    "deletable": false,
    "editable": false,
    "nbgrader": {
     "cell_type": "markdown",
     "checksum": "a7f09e7dc94a199836df05a71e7769de",
     "grade": false,
     "grade_id": "cell-f3ebf436af20e19d",
     "locked": true,
     "schema_version": 3,
     "solution": false,
     "task": false
    }
   },
   "source": [
    "### Problem 1 summary\n",
    "\n",
    "- Did you have any problems with Problem 1?\n",
    "\n",
    "Also, make sure to:\n",
    "\n",
    "- Check that your code includes informative comments explaining what your code does\n",
    "- Commit and push your changes to your GitHub repository for Exercise 5\n",
    "\n",
    "Please write your answers and comments below (**activate the cell by double clicking**)."
   ]
  },
  {
   "cell_type": "markdown",
   "metadata": {
    "deletable": false,
    "nbgrader": {
     "cell_type": "markdown",
     "checksum": "6fe20aad593946c95bf5f152d560375b",
     "grade": true,
     "grade_id": "problem_1_mg_p4_questions",
     "locked": false,
     "points": 0,
     "schema_version": 3,
     "solution": true,
     "task": false
    }
   },
   "source": [
    "YOUR ANSWER HERE"
   ]
  },
  {
   "cell_type": "markdown",
   "metadata": {
    "deletable": false,
    "editable": false,
    "nbgrader": {
     "cell_type": "markdown",
     "checksum": "d83d3441649eb0a83657cbf9b30a0825",
     "grade": false,
     "grade_id": "cell-37aec3470db70bf0",
     "locked": true,
     "schema_version": 3,
     "solution": false,
     "task": false
    }
   },
   "source": [
    "### On to Problem 2\n",
    "\n",
    "Now you can continue to [Problem 2: Data manipulation and selection](Exercise-5-problem-2.ipynb)"
   ]
  }
 ],
 "metadata": {
  "anaconda-cloud": {},
  "kernelspec": {
   "display_name": "Python 3 (ipykernel)",
   "language": "python",
   "name": "python3"
  },
  "language_info": {
   "codemirror_mode": {
    "name": "ipython",
    "version": 3
   },
   "file_extension": ".py",
   "mimetype": "text/x-python",
   "name": "python",
   "nbconvert_exporter": "python",
   "pygments_lexer": "ipython3",
   "version": "3.7.11"
  }
 },
 "nbformat": 4,
 "nbformat_minor": 4
}
